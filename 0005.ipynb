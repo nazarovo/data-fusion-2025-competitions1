{
 "cells": [
  {
   "cell_type": "code",
   "execution_count": 1,
   "id": "dfa10001",
   "metadata": {},
   "outputs": [],
   "source": [
    "import polars as pl"
   ]
  },
  {
   "cell_type": "code",
   "execution_count": 2,
   "id": "acb3f599",
   "metadata": {},
   "outputs": [
    {
     "name": "stdout",
     "output_type": "stream",
     "text": [
      "CPU times: user 897 ms, sys: 428 ms, total: 1.32 s\n",
      "Wall time: 1.1 s\n"
     ]
    },
    {
     "data": {
      "text/html": [
       "<div><style>\n",
       ".dataframe > thead > tr,\n",
       ".dataframe > tbody > tr {\n",
       "  text-align: right;\n",
       "  white-space: pre-wrap;\n",
       "}\n",
       "</style>\n",
       "<small>shape: (716_552, 4)</small><table border=\"1\" class=\"dataframe\"><thead><tr><th>hash_id</th><th>source_name</th><th>attributes</th><th>cat_id</th></tr><tr><td>str</td><td>str</td><td>str</td><td>i16</td></tr></thead><tbody><tr><td>&quot;00002c14676b6a5c02d01fd82a92bd…</td><td>&quot;Бойник барабана для стиральной…</td><td>&quot;[{&quot;&quot;attribute_id&quot;&quot;:8,&quot;&quot;attribu…</td><td>10501</td></tr><tr><td>&quot;00002d434ee4516d75b9e99cb4b6b4…</td><td>&quot;Приемное устройство М1 TDM Уют…</td><td>&quot;[{&quot;&quot;attribute_id&quot;&quot;:8,&quot;&quot;attribu…</td><td>140</td></tr><tr><td>&quot;000055da1f1a715b7a8c955e4002ad…</td><td>&quot;Духовой шкаф электрический Dar…</td><td>&quot;[{&quot;&quot;attribute_id&quot;&quot;:6,&quot;&quot;attribu…</td><td>1397</td></tr><tr><td>&quot;000065493de83bdbacf9093b9e139c…</td><td>&quot;Коврик для мыши 40*70 см Gensh…</td><td>&quot;[{&quot;&quot;attribute_id&quot;&quot;:8,&quot;&quot;attribu…</td><td>3645</td></tr><tr><td>&quot;00006bee8d0f6056ac09833a2cee2b…</td><td>&quot;Ripo Кабель для интернет-соеди…</td><td>&quot;[{&quot;&quot;attribute_id&quot;&quot;:8,&quot;&quot;attribu…</td><td>10421</td></tr><tr><td>&hellip;</td><td>&hellip;</td><td>&hellip;</td><td>&hellip;</td></tr><tr><td>&quot;fffecb9ea7054ebf85fb66c319dcae…</td><td>&quot;Конвекторный обогреватель BRAY…</td><td>&quot;[{&quot;&quot;attribute_id&quot;&quot;:8,&quot;&quot;attribu…</td><td>2473</td></tr><tr><td>&quot;fffeee7c5284337d6578d9f8a9c93b…</td><td>&quot;Водонагреватель накопительный …</td><td>&quot;[{&quot;&quot;attribute_id&quot;&quot;:8,&quot;&quot;attribu…</td><td>2433</td></tr><tr><td>&quot;ffff046ddf679fba0eed00bda03eb6…</td><td>&quot;Сетевое зарядное устройство, а…</td><td>&quot;[{&quot;&quot;attribute_id&quot;&quot;:6,&quot;&quot;attribu…</td><td>10354</td></tr><tr><td>&quot;ffff1ca79c20c121b9436faecea11b…</td><td>&quot;Аккумулятор для ноутбука HP Pa…</td><td>&quot;[{}]&quot;</td><td>1370</td></tr><tr><td>&quot;ffffea9e409dc1d4b33bd24bec4c61…</td><td>&quot;Ноутбук MSI Sword 15 A12UE-487…</td><td>&quot;[{&quot;&quot;attribute_id&quot;&quot;:6,&quot;&quot;attribu…</td><td>1242</td></tr></tbody></table></div>"
      ],
      "text/plain": [
       "shape: (716_552, 4)\n",
       "┌─────────────────────────────┬─────────────────────────────┬─────────────────────────────┬────────┐\n",
       "│ hash_id                     ┆ source_name                 ┆ attributes                  ┆ cat_id │\n",
       "│ ---                         ┆ ---                         ┆ ---                         ┆ ---    │\n",
       "│ str                         ┆ str                         ┆ str                         ┆ i16    │\n",
       "╞═════════════════════════════╪═════════════════════════════╪═════════════════════════════╪════════╡\n",
       "│ 00002c14676b6a5c02d01fd82a9 ┆ Бойник барабана для         ┆ [{\"\"attribute_id\"\":8,\"\"attr ┆ 10501  │\n",
       "│ 2bd…                        ┆ стиральной…                 ┆ ibu…                        ┆        │\n",
       "│ 00002d434ee4516d75b9e99cb4b ┆ Приемное устройство М1 TDM  ┆ [{\"\"attribute_id\"\":8,\"\"attr ┆ 140    │\n",
       "│ 6b4…                        ┆ Уют…                        ┆ ibu…                        ┆        │\n",
       "│ 000055da1f1a715b7a8c955e400 ┆ Духовой шкаф электрический  ┆ [{\"\"attribute_id\"\":6,\"\"attr ┆ 1397   │\n",
       "│ 2ad…                        ┆ Dar…                        ┆ ibu…                        ┆        │\n",
       "│ 000065493de83bdbacf9093b9e1 ┆ Коврик для мыши 40*70 см    ┆ [{\"\"attribute_id\"\":8,\"\"attr ┆ 3645   │\n",
       "│ 39c…                        ┆ Gensh…                      ┆ ibu…                        ┆        │\n",
       "│ 00006bee8d0f6056ac09833a2ce ┆ Ripo Кабель для             ┆ [{\"\"attribute_id\"\":8,\"\"attr ┆ 10421  │\n",
       "│ e2b…                        ┆ интернет-соеди…             ┆ ibu…                        ┆        │\n",
       "│ …                           ┆ …                           ┆ …                           ┆ …      │\n",
       "│ fffecb9ea7054ebf85fb66c319d ┆ Конвекторный обогреватель   ┆ [{\"\"attribute_id\"\":8,\"\"attr ┆ 2473   │\n",
       "│ cae…                        ┆ BRAY…                       ┆ ibu…                        ┆        │\n",
       "│ fffeee7c5284337d6578d9f8a9c ┆ Водонагреватель             ┆ [{\"\"attribute_id\"\":8,\"\"attr ┆ 2433   │\n",
       "│ 93b…                        ┆ накопительный …             ┆ ibu…                        ┆        │\n",
       "│ ffff046ddf679fba0eed00bda03 ┆ Сетевое зарядное            ┆ [{\"\"attribute_id\"\":6,\"\"attr ┆ 10354  │\n",
       "│ eb6…                        ┆ устройство, а…              ┆ ibu…                        ┆        │\n",
       "│ ffff1ca79c20c121b9436faecea ┆ Аккумулятор для ноутбука HP ┆ [{}]                        ┆ 1370   │\n",
       "│ 11b…                        ┆ Pa…                         ┆                             ┆        │\n",
       "│ ffffea9e409dc1d4b33bd24bec4 ┆ Ноутбук MSI Sword 15        ┆ [{\"\"attribute_id\"\":6,\"\"attr ┆ 1242   │\n",
       "│ c61…                        ┆ A12UE-487…                  ┆ ibu…                        ┆        │\n",
       "└─────────────────────────────┴─────────────────────────────┴─────────────────────────────┴────────┘"
      ]
     },
     "execution_count": 2,
     "metadata": {},
     "output_type": "execute_result"
    }
   ],
   "source": [
    "%%time\n",
    "labeled=pl.read_parquet(\"labeled_train.parquet\").with_columns(pl.col(\"cat_id\").cast(pl.Int16))\n",
    "labeled"
   ]
  },
  {
   "cell_type": "code",
   "execution_count": 3,
   "id": "6bf063a3",
   "metadata": {},
   "outputs": [
    {
     "data": {
      "text/html": [
       "<div><style>\n",
       ".dataframe > thead > tr,\n",
       ".dataframe > tbody > tr {\n",
       "  text-align: right;\n",
       "  white-space: pre-wrap;\n",
       "}\n",
       "</style>\n",
       "<small>shape: (1_896, 13)</small><table border=\"1\" class=\"dataframe\"><thead><tr><th>cat_id</th><th>parent_id</th><th>cat_name</th><th>level</th><th>p4</th><th>p3</th><th>p2</th><th>p1</th><th>p0</th><th>population_cats</th><th>end</th><th>population_trains</th><th>population_trains_full</th></tr><tr><td>i16</td><td>i16</td><td>str</td><td>i8</td><td>i16</td><td>i16</td><td>i16</td><td>i16</td><td>i16</td><td>i8</td><td>i8</td><td>u32</td><td>u32</td></tr></thead><tbody><tr><td>1</td><td>null</td><td>&quot;Электроника&quot;</td><td>0</td><td>null</td><td>null</td><td>null</td><td>null</td><td>1</td><td>18</td><td>0</td><td>540</td><td>307950</td></tr><tr><td>2</td><td>null</td><td>&quot;Ноутбуки и компьютеры&quot;</td><td>0</td><td>null</td><td>null</td><td>null</td><td>null</td><td>2</td><td>15</td><td>0</td><td>20</td><td>180160</td></tr><tr><td>3</td><td>null</td><td>&quot;Бытовая техника&quot;</td><td>0</td><td>null</td><td>null</td><td>null</td><td>null</td><td>3</td><td>7</td><td>0</td><td>0</td><td>145342</td></tr><tr><td>4</td><td>null</td><td>&quot;Детские товары&quot;</td><td>0</td><td>null</td><td>null</td><td>null</td><td>null</td><td>4</td><td>11</td><td>0</td><td>0</td><td>6583</td></tr><tr><td>5</td><td>null</td><td>&quot;Дача, сад и огород&quot;</td><td>0</td><td>null</td><td>null</td><td>null</td><td>null</td><td>5</td><td>9</td><td>0</td><td>0</td><td>805</td></tr><tr><td>&hellip;</td><td>&hellip;</td><td>&hellip;</td><td>&hellip;</td><td>&hellip;</td><td>&hellip;</td><td>&hellip;</td><td>&hellip;</td><td>&hellip;</td><td>&hellip;</td><td>&hellip;</td><td>&hellip;</td><td>&hellip;</td></tr><tr><td>31426</td><td>14355</td><td>&quot;Аккумуляторы для мобильных тел…</td><td>4</td><td>31426</td><td>14355</td><td>1005</td><td>101</td><td>1</td><td>0</td><td>1</td><td>0</td><td>0</td></tr><tr><td>31431</td><td>14355</td><td>&quot;Коннекторы и контейнеры для те…</td><td>4</td><td>31431</td><td>14355</td><td>1005</td><td>101</td><td>1</td><td>0</td><td>1</td><td>0</td><td>0</td></tr><tr><td>31433</td><td>14355</td><td>&quot;Корпусные детали для телефонов&quot;</td><td>4</td><td>31433</td><td>14355</td><td>1005</td><td>101</td><td>1</td><td>0</td><td>1</td><td>0</td><td>0</td></tr><tr><td>31434</td><td>14355</td><td>&quot;Клавиатуры и кнопки для телефо…</td><td>4</td><td>31434</td><td>14355</td><td>1005</td><td>101</td><td>1</td><td>0</td><td>1</td><td>252</td><td>252</td></tr><tr><td>31435</td><td>14355</td><td>&quot;Прочие запчасти для мобильных …</td><td>4</td><td>31435</td><td>14355</td><td>1005</td><td>101</td><td>1</td><td>0</td><td>1</td><td>187</td><td>187</td></tr></tbody></table></div>"
      ],
      "text/plain": [
       "shape: (1_896, 13)\n",
       "┌────────┬───────────┬──────────────┬───────┬───┬──────────────┬─────┬──────────────┬──────────────┐\n",
       "│ cat_id ┆ parent_id ┆ cat_name     ┆ level ┆ … ┆ population_c ┆ end ┆ population_t ┆ population_t │\n",
       "│ ---    ┆ ---       ┆ ---          ┆ ---   ┆   ┆ ats          ┆ --- ┆ rains        ┆ rains_full   │\n",
       "│ i16    ┆ i16       ┆ str          ┆ i8    ┆   ┆ ---          ┆ i8  ┆ ---          ┆ ---          │\n",
       "│        ┆           ┆              ┆       ┆   ┆ i8           ┆     ┆ u32          ┆ u32          │\n",
       "╞════════╪═══════════╪══════════════╪═══════╪═══╪══════════════╪═════╪══════════════╪══════════════╡\n",
       "│ 1      ┆ null      ┆ Электроника  ┆ 0     ┆ … ┆ 18           ┆ 0   ┆ 540          ┆ 307950       │\n",
       "│ 2      ┆ null      ┆ Ноутбуки и   ┆ 0     ┆ … ┆ 15           ┆ 0   ┆ 20           ┆ 180160       │\n",
       "│        ┆           ┆ компьютеры   ┆       ┆   ┆              ┆     ┆              ┆              │\n",
       "│ 3      ┆ null      ┆ Бытовая      ┆ 0     ┆ … ┆ 7            ┆ 0   ┆ 0            ┆ 145342       │\n",
       "│        ┆           ┆ техника      ┆       ┆   ┆              ┆     ┆              ┆              │\n",
       "│ 4      ┆ null      ┆ Детские      ┆ 0     ┆ … ┆ 11           ┆ 0   ┆ 0            ┆ 6583         │\n",
       "│        ┆           ┆ товары       ┆       ┆   ┆              ┆     ┆              ┆              │\n",
       "│ 5      ┆ null      ┆ Дача, сад и  ┆ 0     ┆ … ┆ 9            ┆ 0   ┆ 0            ┆ 805          │\n",
       "│        ┆           ┆ огород       ┆       ┆   ┆              ┆     ┆              ┆              │\n",
       "│ …      ┆ …         ┆ …            ┆ …     ┆ … ┆ …            ┆ …   ┆ …            ┆ …            │\n",
       "│ 31426  ┆ 14355     ┆ Аккумуляторы ┆ 4     ┆ … ┆ 0            ┆ 1   ┆ 0            ┆ 0            │\n",
       "│        ┆           ┆ для          ┆       ┆   ┆              ┆     ┆              ┆              │\n",
       "│        ┆           ┆ мобильных    ┆       ┆   ┆              ┆     ┆              ┆              │\n",
       "│        ┆           ┆ тел…         ┆       ┆   ┆              ┆     ┆              ┆              │\n",
       "│ 31431  ┆ 14355     ┆ Коннекторы и ┆ 4     ┆ … ┆ 0            ┆ 1   ┆ 0            ┆ 0            │\n",
       "│        ┆           ┆ контейнеры   ┆       ┆   ┆              ┆     ┆              ┆              │\n",
       "│        ┆           ┆ для те…      ┆       ┆   ┆              ┆     ┆              ┆              │\n",
       "│ 31433  ┆ 14355     ┆ Корпусные    ┆ 4     ┆ … ┆ 0            ┆ 1   ┆ 0            ┆ 0            │\n",
       "│        ┆           ┆ детали для   ┆       ┆   ┆              ┆     ┆              ┆              │\n",
       "│        ┆           ┆ телефонов    ┆       ┆   ┆              ┆     ┆              ┆              │\n",
       "│ 31434  ┆ 14355     ┆ Клавиатуры и ┆ 4     ┆ … ┆ 0            ┆ 1   ┆ 252          ┆ 252          │\n",
       "│        ┆           ┆ кнопки для   ┆       ┆   ┆              ┆     ┆              ┆              │\n",
       "│        ┆           ┆ телефо…      ┆       ┆   ┆              ┆     ┆              ┆              │\n",
       "│ 31435  ┆ 14355     ┆ Прочие       ┆ 4     ┆ … ┆ 0            ┆ 1   ┆ 187          ┆ 187          │\n",
       "│        ┆           ┆ запчасти для ┆       ┆   ┆              ┆     ┆              ┆              │\n",
       "│        ┆           ┆ мобильных …  ┆       ┆   ┆              ┆     ┆              ┆              │\n",
       "└────────┴───────────┴──────────────┴───────┴───┴──────────────┴─────┴──────────────┴──────────────┘"
      ]
     },
     "execution_count": 3,
     "metadata": {},
     "output_type": "execute_result"
    }
   ],
   "source": [
    "cats = pl.read_parquet(\"cats.parquet\")\n",
    "#cats = cats.join(cats.select(\"cat_id\",\"cat_name\"), how=\"left\", left_on=\"parent_id\", right_on=\"cat_id\")\n",
    "cats"
   ]
  },
  {
   "cell_type": "code",
   "execution_count": null,
   "id": "197cc09c",
   "metadata": {},
   "outputs": [],
   "source": []
  },
  {
   "cell_type": "code",
   "execution_count": 4,
   "id": "74ce3f77",
   "metadata": {},
   "outputs": [
    {
     "data": {
      "text/html": [
       "<div><style>\n",
       ".dataframe > thead > tr,\n",
       ".dataframe > tbody > tr {\n",
       "  text-align: right;\n",
       "  white-space: pre-wrap;\n",
       "}\n",
       "</style>\n",
       "<small>shape: (1_406, 4)</small><table border=\"1\" class=\"dataframe\"><thead><tr><th>hash_id</th><th>source_name</th><th>attributes</th><th>cat_id</th></tr><tr><td>str</td><td>str</td><td>str</td><td>i16</td></tr></thead><tbody><tr><td>&quot;117&quot;</td><td>&quot;Радиоуправляемые модели&quot;</td><td>&quot;[{}]&quot;</td><td>117</td></tr><tr><td>&quot;152&quot;</td><td>&quot;Детская одежда и обувь&quot;</td><td>&quot;[{}]&quot;</td><td>152</td></tr><tr><td>&quot;164&quot;</td><td>&quot;Парники и теплицы&quot;</td><td>&quot;[{}]&quot;</td><td>164</td></tr><tr><td>&quot;169&quot;</td><td>&quot;Макароны, крупы&quot;</td><td>&quot;[{}]&quot;</td><td>169</td></tr><tr><td>&quot;170&quot;</td><td>&quot;Растительное масло&quot;</td><td>&quot;[{}]&quot;</td><td>170</td></tr><tr><td>&hellip;</td><td>&hellip;</td><td>&hellip;</td><td>&hellip;</td></tr><tr><td>&quot;31426&quot;</td><td>&quot;Аккумуляторы для мобильных тел…</td><td>&quot;[{}]&quot;</td><td>31426</td></tr><tr><td>&quot;31431&quot;</td><td>&quot;Коннекторы и контейнеры для те…</td><td>&quot;[{}]&quot;</td><td>31431</td></tr><tr><td>&quot;31433&quot;</td><td>&quot;Корпусные детали для телефонов&quot;</td><td>&quot;[{}]&quot;</td><td>31433</td></tr><tr><td>&quot;31434&quot;</td><td>&quot;Клавиатуры и кнопки для телефо…</td><td>&quot;[{}]&quot;</td><td>31434</td></tr><tr><td>&quot;31435&quot;</td><td>&quot;Прочие запчасти для мобильных …</td><td>&quot;[{}]&quot;</td><td>31435</td></tr></tbody></table></div>"
      ],
      "text/plain": [
       "shape: (1_406, 4)\n",
       "┌─────────┬─────────────────────────────────┬────────────┬────────┐\n",
       "│ hash_id ┆ source_name                     ┆ attributes ┆ cat_id │\n",
       "│ ---     ┆ ---                             ┆ ---        ┆ ---    │\n",
       "│ str     ┆ str                             ┆ str        ┆ i16    │\n",
       "╞═════════╪═════════════════════════════════╪════════════╪════════╡\n",
       "│ 117     ┆ Радиоуправляемые модели         ┆ [{}]       ┆ 117    │\n",
       "│ 152     ┆ Детская одежда и обувь          ┆ [{}]       ┆ 152    │\n",
       "│ 164     ┆ Парники и теплицы               ┆ [{}]       ┆ 164    │\n",
       "│ 169     ┆ Макароны, крупы                 ┆ [{}]       ┆ 169    │\n",
       "│ 170     ┆ Растительное масло              ┆ [{}]       ┆ 170    │\n",
       "│ …       ┆ …                               ┆ …          ┆ …      │\n",
       "│ 31426   ┆ Аккумуляторы для мобильных тел… ┆ [{}]       ┆ 31426  │\n",
       "│ 31431   ┆ Коннекторы и контейнеры для те… ┆ [{}]       ┆ 31431  │\n",
       "│ 31433   ┆ Корпусные детали для телефонов  ┆ [{}]       ┆ 31433  │\n",
       "│ 31434   ┆ Клавиатуры и кнопки для телефо… ┆ [{}]       ┆ 31434  │\n",
       "│ 31435   ┆ Прочие запчасти для мобильных … ┆ [{}]       ┆ 31435  │\n",
       "└─────────┴─────────────────────────────────┴────────────┴────────┘"
      ]
     },
     "execution_count": 4,
     "metadata": {},
     "output_type": "execute_result"
    }
   ],
   "source": [
    "names2=cats.filter(pl.col(\"end\")==1 \n",
    "           ).select(\"cat_id\",\"parent_id\",\"cat_name\"\n",
    "                   ).join(cats.select(\"cat_id\",\"cat_name\"),\n",
    "                          left_on=\"parent_id\",\n",
    "                          right_on=\"cat_id\",\n",
    "                          how=\"left\"\n",
    "                         ).with_columns(pl.col(\"cat_id\").alias(\"hash_id\").cast(str),\n",
    "                                        pl.lit(\"[{}]\").alias(\"attributes\")\n",
    "                                       ).rename({\"cat_name\":\"source_name\"}\n",
    "                                               ).select(\"hash_id\",\"source_name\",\"attributes\",\"cat_id\")\n",
    "names2"
   ]
  },
  {
   "cell_type": "code",
   "execution_count": 5,
   "id": "508de76b",
   "metadata": {},
   "outputs": [
    {
     "data": {
      "text/html": [
       "<div><style>\n",
       ".dataframe > thead > tr,\n",
       ".dataframe > tbody > tr {\n",
       "  text-align: right;\n",
       "  white-space: pre-wrap;\n",
       "}\n",
       "</style>\n",
       "<small>shape: (1_406, 4)</small><table border=\"1\" class=\"dataframe\"><thead><tr><th>hash_id</th><th>source_name</th><th>attributes</th><th>cat_id</th></tr><tr><td>str</td><td>str</td><td>str</td><td>i16</td></tr></thead><tbody><tr><td>&quot;117&quot;</td><td>&quot;Радиоуправляемые модели Электр…</td><td>&quot;[{}]&quot;</td><td>117</td></tr><tr><td>&quot;152&quot;</td><td>&quot;Детская одежда и обувь Детские…</td><td>&quot;[{}]&quot;</td><td>152</td></tr><tr><td>&quot;164&quot;</td><td>&quot;Парники и теплицы Дача, сад и …</td><td>&quot;[{}]&quot;</td><td>164</td></tr><tr><td>&quot;169&quot;</td><td>&quot;Макароны, крупы Продукты&quot;</td><td>&quot;[{}]&quot;</td><td>169</td></tr><tr><td>&quot;170&quot;</td><td>&quot;Растительное масло Продукты&quot;</td><td>&quot;[{}]&quot;</td><td>170</td></tr><tr><td>&hellip;</td><td>&hellip;</td><td>&hellip;</td><td>&hellip;</td></tr><tr><td>&quot;31426&quot;</td><td>&quot;Аккумуляторы для мобильных тел…</td><td>&quot;[{}]&quot;</td><td>31426</td></tr><tr><td>&quot;31431&quot;</td><td>&quot;Коннекторы и контейнеры для те…</td><td>&quot;[{}]&quot;</td><td>31431</td></tr><tr><td>&quot;31433&quot;</td><td>&quot;Корпусные детали для телефонов…</td><td>&quot;[{}]&quot;</td><td>31433</td></tr><tr><td>&quot;31434&quot;</td><td>&quot;Клавиатуры и кнопки для телефо…</td><td>&quot;[{}]&quot;</td><td>31434</td></tr><tr><td>&quot;31435&quot;</td><td>&quot;Прочие запчасти для мобильных …</td><td>&quot;[{}]&quot;</td><td>31435</td></tr></tbody></table></div>"
      ],
      "text/plain": [
       "shape: (1_406, 4)\n",
       "┌─────────┬─────────────────────────────────┬────────────┬────────┐\n",
       "│ hash_id ┆ source_name                     ┆ attributes ┆ cat_id │\n",
       "│ ---     ┆ ---                             ┆ ---        ┆ ---    │\n",
       "│ str     ┆ str                             ┆ str        ┆ i16    │\n",
       "╞═════════╪═════════════════════════════════╪════════════╪════════╡\n",
       "│ 117     ┆ Радиоуправляемые модели Электр… ┆ [{}]       ┆ 117    │\n",
       "│ 152     ┆ Детская одежда и обувь Детские… ┆ [{}]       ┆ 152    │\n",
       "│ 164     ┆ Парники и теплицы Дача, сад и … ┆ [{}]       ┆ 164    │\n",
       "│ 169     ┆ Макароны, крупы Продукты        ┆ [{}]       ┆ 169    │\n",
       "│ 170     ┆ Растительное масло Продукты     ┆ [{}]       ┆ 170    │\n",
       "│ …       ┆ …                               ┆ …          ┆ …      │\n",
       "│ 31426   ┆ Аккумуляторы для мобильных тел… ┆ [{}]       ┆ 31426  │\n",
       "│ 31431   ┆ Коннекторы и контейнеры для те… ┆ [{}]       ┆ 31431  │\n",
       "│ 31433   ┆ Корпусные детали для телефонов… ┆ [{}]       ┆ 31433  │\n",
       "│ 31434   ┆ Клавиатуры и кнопки для телефо… ┆ [{}]       ┆ 31434  │\n",
       "│ 31435   ┆ Прочие запчасти для мобильных … ┆ [{}]       ┆ 31435  │\n",
       "└─────────┴─────────────────────────────────┴────────────┴────────┘"
      ]
     },
     "execution_count": 5,
     "metadata": {},
     "output_type": "execute_result"
    }
   ],
   "source": [
    "names3=cats.filter(pl.col(\"end\")==1 \n",
    "           ).select(\"cat_id\",\"parent_id\",\"cat_name\"\n",
    "                   ).join(cats.select(\"cat_id\",\"cat_name\"),\n",
    "                          left_on=\"parent_id\",\n",
    "                          right_on=\"cat_id\",\n",
    "                          how=\"left\"\n",
    "                         ).with_columns(pl.col(\"cat_id\").alias(\"hash_id\").cast(str),\n",
    "                                        pl.concat_str(pl.col(\"cat_name\"),pl.lit(\" \"),pl.col(\"cat_name_right\")),\n",
    "                                        pl.lit(\"[{}]\").alias(\"attributes\")\n",
    "                                       ).rename({\"cat_name\":\"source_name\"}\n",
    "                                               ).select(\"hash_id\",\"source_name\",\"attributes\",\"cat_id\")\n",
    "names3"
   ]
  },
  {
   "cell_type": "code",
   "execution_count": 6,
   "id": "15a32bce",
   "metadata": {},
   "outputs": [
    {
     "data": {
      "text/html": [
       "<div><style>\n",
       ".dataframe > thead > tr,\n",
       ".dataframe > tbody > tr {\n",
       "  text-align: right;\n",
       "  white-space: pre-wrap;\n",
       "}\n",
       "</style>\n",
       "<small>shape: (719_364, 4)</small><table border=\"1\" class=\"dataframe\"><thead><tr><th>hash_id</th><th>source_name</th><th>attributes</th><th>cat_id</th></tr><tr><td>str</td><td>str</td><td>str</td><td>i16</td></tr></thead><tbody><tr><td>&quot;00002c14676b6a5c02d01fd82a92bd…</td><td>&quot;Бойник барабана для стиральной…</td><td>&quot;[{&quot;&quot;attribute_id&quot;&quot;:8,&quot;&quot;attribu…</td><td>10501</td></tr><tr><td>&quot;00002d434ee4516d75b9e99cb4b6b4…</td><td>&quot;Приемное устройство М1 TDM Уют…</td><td>&quot;[{&quot;&quot;attribute_id&quot;&quot;:8,&quot;&quot;attribu…</td><td>140</td></tr><tr><td>&quot;000055da1f1a715b7a8c955e4002ad…</td><td>&quot;Духовой шкаф электрический Dar…</td><td>&quot;[{&quot;&quot;attribute_id&quot;&quot;:6,&quot;&quot;attribu…</td><td>1397</td></tr><tr><td>&quot;000065493de83bdbacf9093b9e139c…</td><td>&quot;Коврик для мыши 40*70 см Gensh…</td><td>&quot;[{&quot;&quot;attribute_id&quot;&quot;:8,&quot;&quot;attribu…</td><td>3645</td></tr><tr><td>&quot;00006bee8d0f6056ac09833a2cee2b…</td><td>&quot;Ripo Кабель для интернет-соеди…</td><td>&quot;[{&quot;&quot;attribute_id&quot;&quot;:8,&quot;&quot;attribu…</td><td>10421</td></tr><tr><td>&hellip;</td><td>&hellip;</td><td>&hellip;</td><td>&hellip;</td></tr><tr><td>&quot;31426&quot;</td><td>&quot;Аккумуляторы для мобильных тел…</td><td>&quot;[{}]&quot;</td><td>31426</td></tr><tr><td>&quot;31431&quot;</td><td>&quot;Коннекторы и контейнеры для те…</td><td>&quot;[{}]&quot;</td><td>31431</td></tr><tr><td>&quot;31433&quot;</td><td>&quot;Корпусные детали для телефонов…</td><td>&quot;[{}]&quot;</td><td>31433</td></tr><tr><td>&quot;31434&quot;</td><td>&quot;Клавиатуры и кнопки для телефо…</td><td>&quot;[{}]&quot;</td><td>31434</td></tr><tr><td>&quot;31435&quot;</td><td>&quot;Прочие запчасти для мобильных …</td><td>&quot;[{}]&quot;</td><td>31435</td></tr></tbody></table></div>"
      ],
      "text/plain": [
       "shape: (719_364, 4)\n",
       "┌─────────────────────────────┬─────────────────────────────┬─────────────────────────────┬────────┐\n",
       "│ hash_id                     ┆ source_name                 ┆ attributes                  ┆ cat_id │\n",
       "│ ---                         ┆ ---                         ┆ ---                         ┆ ---    │\n",
       "│ str                         ┆ str                         ┆ str                         ┆ i16    │\n",
       "╞═════════════════════════════╪═════════════════════════════╪═════════════════════════════╪════════╡\n",
       "│ 00002c14676b6a5c02d01fd82a9 ┆ Бойник барабана для         ┆ [{\"\"attribute_id\"\":8,\"\"attr ┆ 10501  │\n",
       "│ 2bd…                        ┆ стиральной…                 ┆ ibu…                        ┆        │\n",
       "│ 00002d434ee4516d75b9e99cb4b ┆ Приемное устройство М1 TDM  ┆ [{\"\"attribute_id\"\":8,\"\"attr ┆ 140    │\n",
       "│ 6b4…                        ┆ Уют…                        ┆ ibu…                        ┆        │\n",
       "│ 000055da1f1a715b7a8c955e400 ┆ Духовой шкаф электрический  ┆ [{\"\"attribute_id\"\":6,\"\"attr ┆ 1397   │\n",
       "│ 2ad…                        ┆ Dar…                        ┆ ibu…                        ┆        │\n",
       "│ 000065493de83bdbacf9093b9e1 ┆ Коврик для мыши 40*70 см    ┆ [{\"\"attribute_id\"\":8,\"\"attr ┆ 3645   │\n",
       "│ 39c…                        ┆ Gensh…                      ┆ ibu…                        ┆        │\n",
       "│ 00006bee8d0f6056ac09833a2ce ┆ Ripo Кабель для             ┆ [{\"\"attribute_id\"\":8,\"\"attr ┆ 10421  │\n",
       "│ e2b…                        ┆ интернет-соеди…             ┆ ibu…                        ┆        │\n",
       "│ …                           ┆ …                           ┆ …                           ┆ …      │\n",
       "│ 31426                       ┆ Аккумуляторы для мобильных  ┆ [{}]                        ┆ 31426  │\n",
       "│                             ┆ тел…                        ┆                             ┆        │\n",
       "│ 31431                       ┆ Коннекторы и контейнеры для ┆ [{}]                        ┆ 31431  │\n",
       "│                             ┆ те…                         ┆                             ┆        │\n",
       "│ 31433                       ┆ Корпусные детали для        ┆ [{}]                        ┆ 31433  │\n",
       "│                             ┆ телефонов…                  ┆                             ┆        │\n",
       "│ 31434                       ┆ Клавиатуры и кнопки для     ┆ [{}]                        ┆ 31434  │\n",
       "│                             ┆ телефо…                     ┆                             ┆        │\n",
       "│ 31435                       ┆ Прочие запчасти для         ┆ [{}]                        ┆ 31435  │\n",
       "│                             ┆ мобильных …                 ┆                             ┆        │\n",
       "└─────────────────────────────┴─────────────────────────────┴─────────────────────────────┴────────┘"
      ]
     },
     "execution_count": 6,
     "metadata": {},
     "output_type": "execute_result"
    }
   ],
   "source": [
    "names = pl.concat([labeled,\n",
    "                   names2,\n",
    "                   names3\n",
    "                  ]\n",
    "                 )\n",
    "names"
   ]
  },
  {
   "cell_type": "code",
   "execution_count": null,
   "id": "977f82f1",
   "metadata": {},
   "outputs": [],
   "source": []
  },
  {
   "cell_type": "code",
   "execution_count": null,
   "id": "da6c1a7d",
   "metadata": {},
   "outputs": [],
   "source": []
  }
 ],
 "metadata": {
  "kernelspec": {
   "display_name": "Python 3 (ipykernel)",
   "language": "python",
   "name": "python3"
  },
  "language_info": {
   "codemirror_mode": {
    "name": "ipython",
    "version": 3
   },
   "file_extension": ".py",
   "mimetype": "text/x-python",
   "name": "python",
   "nbconvert_exporter": "python",
   "pygments_lexer": "ipython3",
   "version": "3.10.15"
  }
 },
 "nbformat": 4,
 "nbformat_minor": 5
}
